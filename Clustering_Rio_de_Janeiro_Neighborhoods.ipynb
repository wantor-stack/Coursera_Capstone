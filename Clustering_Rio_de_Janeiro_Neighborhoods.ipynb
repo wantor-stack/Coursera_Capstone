{
  "nbformat": 4,
  "nbformat_minor": 0,
  "metadata": {
    "colab": {
      "name": "Clustering Rio de Janeiro Neighborhoods.ipynb",
      "provenance": [],
      "collapsed_sections": [],
      "toc_visible": true,
      "authorship_tag": "ABX9TyPAKRSkzdaJBjOtol4L0uNk",
      "include_colab_link": true
    },
    "kernelspec": {
      "name": "python3",
      "display_name": "Python 3"
    },
    "language_info": {
      "name": "python"
    }
  },
  "cells": [
    {
      "cell_type": "markdown",
      "metadata": {
        "id": "view-in-github",
        "colab_type": "text"
      },
      "source": [
        "<a href=\"https://colab.research.google.com/github/wantor-stack/Coursera_Capstone/blob/main/Clustering_Rio_de_Janeiro_Neighborhoods.ipynb\" target=\"_parent\"><img src=\"https://colab.research.google.com/assets/colab-badge.svg\" alt=\"Open In Colab\"/></a>"
      ]
    },
    {
      "cell_type": "markdown",
      "metadata": {
        "id": "0bhA3G0TTox3"
      },
      "source": [
        "# Applied Data Science Capstone- Battle of the Neighborhoods\n",
        "## Clustering the Neighborhoods of Rio de Janeiro, RJ\n",
        "\n",
        "## Author: Wanderson Torres\n",
        "\n",
        "\n",
        "---\n",
        "\n",
        "\n",
        "\n",
        "---\n",
        "\n",
        "\n",
        "## Introduction/ Business Problem:\n",
        "\n",
        "#### The emergence of the coronavirus disease 2019 (COVID-19), which is caused by infection from the previously unknown severe acute respiratory syndrome coronavirus 2 (SARS-CoV-2), has devastated economies and caused unprecedented challenges to healthcare and food systems around the world. Globally, billions of people have been ordered to stay at home as a result of lockdowns, while almost three million people have died (as of the end of March 2021).\n",
        "\n",
        "#### With the pandemic infecting the planet, most jobs have gone remote, thus giving people an option to move farther away from the office to a safety area. We have seen a trend where people are moving away from crowded and expensive neighborhoods to the suburbs or even to other cities/states where there is more secure and more protected against the virus. \n",
        "\n",
        "#### I live in the city of Rio de Janeiro and due to the increase in the number of deaths and the occupation of the hospitals beds reaching their maximum occupancy, I would like to conduct a study where it points out areas of lower risk and high options for health treatment in general. \n",
        "\n",
        "#### The aim of the project is to apply the skills learned in the Coursera course to find the safest neighborhood in Rio de Janeiro, surrounded by hospitals, drugstores, clinics and so on. This will be determined by analyzing the number of cases of covid, deaths and the profile of the neighborhoods population, clustering neighborhoods using k-means and exploring on the map the top common healthy venues in the safest neighborhoods. \n",
        "\n",
        "####This exercise may also be of interest to anyone who is facing this pandemic and is concerned about the health issue.\n",
        "\n",
        "\n",
        "---\n",
        "\n",
        "\n",
        "---\n",
        "\n",
        "\n",
        "\n",
        "\n",
        "## Data\n",
        "\n",
        "#### The Rio Covid Panel is an initiative of the city of Rio de Janeiro. It's an open source and available for download directly from the Data Rio Website [website](https://www.data.rio/app/painel-rio-covid-19). It contained the features about COVID cases: neighborhood of residence, case evolution, age group and sex. \n",
        "\n",
        "#### I also obtained a list of Rio de Janeiro’s districts and neighborhoods by web scraping a [Wikipedia page](https://pt.wikipedia.org/wiki/Lista_de_bairros_da_cidade_do_Rio_de_Janeiro) using BeautifulSoup. However, this dataset lacked the geographical coordinates. So, I used geocoder to obtain the latitude and longitude coordinates for each Rio de Janeiro neighborhood.\n",
        "\n",
        "#### I've got the number of habitants in each neighborhoood in Rio de Janeiro from from the Data Rio Website [website](https://www.data.rio/search?groupIds=0f4009068ec74e17b25eb3e70891b95f&sort=-modified). It's ans open source information and available to download for free.\n",
        "\n",
        "#### To get venue information in each neighborhood, I called the [Foursquare API](https://foursquare.com/developers/apps). This gave me a dataset containing the venue name, latitude and longitude coordinates of the venue location, and the venue category."
      ]
    },
    {
      "cell_type": "code",
      "metadata": {
        "colab": {
          "base_uri": "https://localhost:8080/"
        },
        "id": "RQ2-kdeVXSyu",
        "outputId": "58b4c181-9c1d-43c9-c96e-9849ae1dd028"
      },
      "source": [
        "import numpy as np # library to handle data in a vectorized manner\n",
        "\n",
        "import pandas as pd # library for data analsysis\n",
        "pd.set_option(\"display.max_columns\", None)\n",
        "pd.set_option(\"display.max_rows\", None)\n",
        "\n",
        "import json # library to handle JSON files\n",
        "\n",
        "#!conda install -c conda-forge geopy --yes # uncomment this line if geopy package is not installed\n",
        "#!pip install geopy\n",
        "from geopy.geocoders import Nominatim # convert an address into latitude and longitude values\n",
        "from geopy.exc import GeocoderTimedOut \n",
        "\n",
        "import requests # library to handle requests\n",
        "\n",
        "#!pip install BeautifulSoup4\n",
        "from bs4 import BeautifulSoup # for web scraping\n",
        "\n",
        "from pandas.io.json import json_normalize # tranform JSON file into a pandas dataframe\n",
        "\n",
        "# Matplotlib and associated plotting modules\n",
        "import matplotlib.pyplot as plt\n",
        "import matplotlib.cm as cm\n",
        "import matplotlib.colors as colors\n",
        "\n",
        "# import seaborn to make pretty plots\n",
        "import seaborn as sns\n",
        "\n",
        "# import k-means from clustering stage\n",
        "from sklearn.cluster import KMeans\n",
        "\n",
        "#!conda install -c conda-forge folium=0.5.0 --yes # uncomment this line if folium package is not installed\n",
        "#!pip install folium\n",
        "import folium # map-rendering library\n",
        "\n",
        "print('Libraries imported.')"
      ],
      "execution_count": 3,
      "outputs": [
        {
          "output_type": "stream",
          "text": [
            "Libraries imported.\n"
          ],
          "name": "stdout"
        }
      ]
    },
    {
      "cell_type": "markdown",
      "metadata": {
        "id": "p6xirJeSYjFL"
      },
      "source": [
        "#Example of the Dataset of Rio de Janeiro Neighborhoods and Geocoordinates"
      ]
    },
    {
      "cell_type": "code",
      "metadata": {
        "colab": {
          "base_uri": "https://localhost:8080/",
          "height": 197
        },
        "id": "HTEG6avBYLzN",
        "outputId": "584bbc9d-dcfd-4229-850e-ea01f1e7cf37"
      },
      "source": [
        "# TO IMPORT RIO DE JANEIRO DATAFRAME WITH COORDINATES FROM THE GETGO\n",
        "rj_data = pd.read_csv('rio-rj-neighborhoods-geo.csv', header=0)\n",
        "#rj_data.dropna(subset=['Latitude'], inplace=True)\n",
        "#rj_data.reset_index(drop=True, inplace=True)\n",
        "rj_data.head()"
      ],
      "execution_count": 5,
      "outputs": [
        {
          "output_type": "execute_result",
          "data": {
            "text/html": [
              "<div>\n",
              "<style scoped>\n",
              "    .dataframe tbody tr th:only-of-type {\n",
              "        vertical-align: middle;\n",
              "    }\n",
              "\n",
              "    .dataframe tbody tr th {\n",
              "        vertical-align: top;\n",
              "    }\n",
              "\n",
              "    .dataframe thead th {\n",
              "        text-align: right;\n",
              "    }\n",
              "</style>\n",
              "<table border=\"1\" class=\"dataframe\">\n",
              "  <thead>\n",
              "    <tr style=\"text-align: right;\">\n",
              "      <th></th>\n",
              "      <th>City</th>\n",
              "      <th>Zone</th>\n",
              "      <th>District</th>\n",
              "      <th>Neighborhood</th>\n",
              "      <th>Latitude</th>\n",
              "      <th>Longitude</th>\n",
              "    </tr>\n",
              "  </thead>\n",
              "  <tbody>\n",
              "    <tr>\n",
              "      <th>0</th>\n",
              "      <td>Rio de Janeiro</td>\n",
              "      <td>Central</td>\n",
              "      <td>Centro Histórico e Zona Portuária</td>\n",
              "      <td>São Cristóvão</td>\n",
              "      <td>-22.899318</td>\n",
              "      <td>-43.221935</td>\n",
              "    </tr>\n",
              "    <tr>\n",
              "      <th>1</th>\n",
              "      <td>Rio de Janeiro</td>\n",
              "      <td>Central</td>\n",
              "      <td>Centro Histórico e Zona Portuária</td>\n",
              "      <td>Benfica</td>\n",
              "      <td>-22.892297</td>\n",
              "      <td>-43.240341</td>\n",
              "    </tr>\n",
              "    <tr>\n",
              "      <th>2</th>\n",
              "      <td>Rio de Janeiro</td>\n",
              "      <td>Central</td>\n",
              "      <td>Centro Histórico e Zona Portuária</td>\n",
              "      <td>Caju</td>\n",
              "      <td>-22.880306</td>\n",
              "      <td>-43.221494</td>\n",
              "    </tr>\n",
              "    <tr>\n",
              "      <th>3</th>\n",
              "      <td>Rio de Janeiro</td>\n",
              "      <td>Central</td>\n",
              "      <td>Centro Histórico e Zona Portuária</td>\n",
              "      <td>Catumbi</td>\n",
              "      <td>-22.919454</td>\n",
              "      <td>-43.197081</td>\n",
              "    </tr>\n",
              "    <tr>\n",
              "      <th>4</th>\n",
              "      <td>Rio de Janeiro</td>\n",
              "      <td>Central</td>\n",
              "      <td>Centro Histórico e Zona Portuária</td>\n",
              "      <td>Centro</td>\n",
              "      <td>-22.904393</td>\n",
              "      <td>-43.183065</td>\n",
              "    </tr>\n",
              "  </tbody>\n",
              "</table>\n",
              "</div>"
            ],
            "text/plain": [
              "             City     Zone                            District   Neighborhood  \\\n",
              "0  Rio de Janeiro  Central  Centro Histórico e Zona Portuária   São Cristóvão   \n",
              "1  Rio de Janeiro  Central  Centro Histórico e Zona Portuária         Benfica   \n",
              "2  Rio de Janeiro  Central  Centro Histórico e Zona Portuária            Caju   \n",
              "3  Rio de Janeiro  Central  Centro Histórico e Zona Portuária         Catumbi   \n",
              "4  Rio de Janeiro  Central  Centro Histórico e Zona Portuária          Centro   \n",
              "\n",
              "    Latitude  Longitude  \n",
              "0 -22.899318 -43.221935  \n",
              "1 -22.892297 -43.240341  \n",
              "2 -22.880306 -43.221494  \n",
              "3 -22.919454 -43.197081  \n",
              "4 -22.904393 -43.183065  "
            ]
          },
          "metadata": {
            "tags": []
          },
          "execution_count": 5
        }
      ]
    },
    {
      "cell_type": "markdown",
      "metadata": {
        "id": "P5-_5rqHYxmR"
      },
      "source": [
        "# Example of Dataset of Rio de Janeiro COVID Cases"
      ]
    },
    {
      "cell_type": "code",
      "metadata": {
        "colab": {
          "base_uri": "https://localhost:8080/",
          "height": 197
        },
        "id": "qt6Ci1fCYJTA",
        "outputId": "77c40a2b-3c3b-4ba9-fc1e-f52a00bfe861"
      },
      "source": [
        "# TO IMPORT RIO DE JANEIRO DATAFRAME WITH COORDINATES FROM THE GETGO\n",
        "rj_covid = pd.read_csv('rj_covid.csv', header=0)\n",
        "#rj_data.dropna(subset=['Latitude'], inplace=True)\n",
        "#rj_data.reset_index(drop=True, inplace=True)\n",
        "rj_covid.head()"
      ],
      "execution_count": 6,
      "outputs": [
        {
          "output_type": "execute_result",
          "data": {
            "text/html": [
              "<div>\n",
              "<style scoped>\n",
              "    .dataframe tbody tr th:only-of-type {\n",
              "        vertical-align: middle;\n",
              "    }\n",
              "\n",
              "    .dataframe tbody tr th {\n",
              "        vertical-align: top;\n",
              "    }\n",
              "\n",
              "    .dataframe thead th {\n",
              "        text-align: right;\n",
              "    }\n",
              "</style>\n",
              "<table border=\"1\" class=\"dataframe\">\n",
              "  <thead>\n",
              "    <tr style=\"text-align: right;\">\n",
              "      <th></th>\n",
              "      <th>Neighborhood</th>\n",
              "      <th>evolution</th>\n",
              "    </tr>\n",
              "  </thead>\n",
              "  <tbody>\n",
              "    <tr>\n",
              "      <th>0</th>\n",
              "      <td>ABOLICAO</td>\n",
              "      <td>OBITO</td>\n",
              "    </tr>\n",
              "    <tr>\n",
              "      <th>1</th>\n",
              "      <td>ABOLICAO</td>\n",
              "      <td>OBITO</td>\n",
              "    </tr>\n",
              "    <tr>\n",
              "      <th>2</th>\n",
              "      <td>ABOLICAO</td>\n",
              "      <td>OBITO</td>\n",
              "    </tr>\n",
              "    <tr>\n",
              "      <th>3</th>\n",
              "      <td>ABOLICAO</td>\n",
              "      <td>OBITO</td>\n",
              "    </tr>\n",
              "    <tr>\n",
              "      <th>4</th>\n",
              "      <td>ABOLICAO</td>\n",
              "      <td>OBITO</td>\n",
              "    </tr>\n",
              "  </tbody>\n",
              "</table>\n",
              "</div>"
            ],
            "text/plain": [
              "  Neighborhood evolution\n",
              "0     ABOLICAO     OBITO\n",
              "1     ABOLICAO     OBITO\n",
              "2     ABOLICAO     OBITO\n",
              "3     ABOLICAO     OBITO\n",
              "4     ABOLICAO     OBITO"
            ]
          },
          "metadata": {
            "tags": []
          },
          "execution_count": 6
        }
      ]
    },
    {
      "cell_type": "markdown",
      "metadata": {
        "id": "-YMm_9FWZAOf"
      },
      "source": [
        "# Example of Dataset of Rio de Janeiro Population per Neighborhood"
      ]
    },
    {
      "cell_type": "code",
      "metadata": {
        "colab": {
          "base_uri": "https://localhost:8080/",
          "height": 197
        },
        "id": "NrTDFT3nXY-W",
        "outputId": "1f853c9d-7c6e-4ffc-ed68-9ad2af89d07b"
      },
      "source": [
        "# TO IMPORT RIO DE JANEIRO DATAFRAME WITH COORDINATES FROM THE GETGO\n",
        "rj_pop = pd.read_csv('rj_pop.csv', header=0)\n",
        "#rj_data.dropna(subset=['Latitude'], inplace=True)\n",
        "#rj_data.reset_index(drop=True, inplace=True)\n",
        "rj_pop.head()"
      ],
      "execution_count": 7,
      "outputs": [
        {
          "output_type": "execute_result",
          "data": {
            "text/html": [
              "<div>\n",
              "<style scoped>\n",
              "    .dataframe tbody tr th:only-of-type {\n",
              "        vertical-align: middle;\n",
              "    }\n",
              "\n",
              "    .dataframe tbody tr th {\n",
              "        vertical-align: top;\n",
              "    }\n",
              "\n",
              "    .dataframe thead th {\n",
              "        text-align: right;\n",
              "    }\n",
              "</style>\n",
              "<table border=\"1\" class=\"dataframe\">\n",
              "  <thead>\n",
              "    <tr style=\"text-align: right;\">\n",
              "      <th></th>\n",
              "      <th>Neighborhood</th>\n",
              "      <th>Population</th>\n",
              "    </tr>\n",
              "  </thead>\n",
              "  <tbody>\n",
              "    <tr>\n",
              "      <th>0</th>\n",
              "      <td>COPACABANA</td>\n",
              "      <td>161031</td>\n",
              "    </tr>\n",
              "    <tr>\n",
              "      <th>1</th>\n",
              "      <td>LEBLON</td>\n",
              "      <td>50648</td>\n",
              "    </tr>\n",
              "    <tr>\n",
              "      <th>2</th>\n",
              "      <td>IPANEMA</td>\n",
              "      <td>47017</td>\n",
              "    </tr>\n",
              "    <tr>\n",
              "      <th>3</th>\n",
              "      <td>FLAMENGO</td>\n",
              "      <td>55047</td>\n",
              "    </tr>\n",
              "    <tr>\n",
              "      <th>4</th>\n",
              "      <td>MEIER</td>\n",
              "      <td>54811</td>\n",
              "    </tr>\n",
              "  </tbody>\n",
              "</table>\n",
              "</div>"
            ],
            "text/plain": [
              "  Neighborhood  Population\n",
              "0   COPACABANA      161031\n",
              "1       LEBLON       50648\n",
              "2      IPANEMA       47017\n",
              "3     FLAMENGO       55047\n",
              "4        MEIER       54811"
            ]
          },
          "metadata": {
            "tags": []
          },
          "execution_count": 7
        }
      ]
    },
    {
      "cell_type": "markdown",
      "metadata": {
        "id": "uoAz4SG_TliF"
      },
      "source": [
        ""
      ]
    }
  ]
}